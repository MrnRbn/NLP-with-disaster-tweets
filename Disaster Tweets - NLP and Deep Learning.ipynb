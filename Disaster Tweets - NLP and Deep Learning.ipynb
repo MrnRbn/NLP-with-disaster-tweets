{
 "cells": [
  {
   "cell_type": "code",
   "execution_count": null,
   "id": "567797c0-28c6-4bed-99f5-f394b875e2ae",
   "metadata": {},
   "outputs": [],
   "source": [
    "!pip install kaggle"
   ]
  },
  {
   "cell_type": "code",
   "execution_count": 7,
   "id": "9e69bbfb-be49-47f1-a421-719994e30803",
   "metadata": {},
   "outputs": [
    {
     "name": "stdout",
     "output_type": "stream",
     "text": [
      "Downloading nlp-getting-started.zip to /Users/marion/Documents/Jedha/Deep Learning/NLP-with-disaster-tweets\n",
      "  0%|                                                | 0.00/593k [00:00<?, ?B/s]\n",
      "100%|████████████████████████████████████████| 593k/593k [00:00<00:00, 10.2MB/s]\n"
     ]
    }
   ],
   "source": [
    "!kaggle competitions download -c nlp-getting-started"
   ]
  },
  {
   "cell_type": "code",
   "execution_count": 28,
   "id": "ad199cb3-8c70-470c-8868-42a61aa52765",
   "metadata": {},
   "outputs": [
    {
     "name": "stdout",
     "output_type": "stream",
     "text": [
      "Collecting nltk\n",
      "  Downloading nltk-3.7-py3-none-any.whl (1.5 MB)\n",
      "\u001b[2K     \u001b[90m━━━━━━━━━━━━━━━━━━━━━━━━━━━━━━━━━━━━━━━━\u001b[0m \u001b[32m1.5/1.5 MB\u001b[0m \u001b[31m17.1 MB/s\u001b[0m eta \u001b[36m0:00:00\u001b[0m00:01\u001b[0m00:01\u001b[0m\n",
      "\u001b[?25hRequirement already satisfied: joblib in /Users/marion/miniforge3/lib/python3.9/site-packages (from nltk) (1.1.0)\n",
      "Collecting regex>=2021.8.3\n",
      "  Downloading regex-2022.9.13-cp39-cp39-macosx_11_0_arm64.whl (287 kB)\n",
      "\u001b[2K     \u001b[90m━━━━━━━━━━━━━━━━━━━━━━━━━━━━━━━━━━━━━━\u001b[0m \u001b[32m287.2/287.2 kB\u001b[0m \u001b[31m12.3 MB/s\u001b[0m eta \u001b[36m0:00:00\u001b[0m\n",
      "\u001b[?25hRequirement already satisfied: tqdm in /Users/marion/miniforge3/lib/python3.9/site-packages (from nltk) (4.64.0)\n",
      "Requirement already satisfied: click in /Users/marion/miniforge3/lib/python3.9/site-packages (from nltk) (8.1.3)\n",
      "Installing collected packages: regex, nltk\n",
      "Successfully installed nltk-3.7 regex-2022.9.13\n"
     ]
    }
   ],
   "source": [
    "!pip install nltk"
   ]
  },
  {
   "cell_type": "code",
   "execution_count": 81,
   "id": "2a78510e-66c2-472d-892f-99eee7b6152f",
   "metadata": {},
   "outputs": [],
   "source": [
    "!pip install spacy -q"
   ]
  },
  {
   "cell_type": "code",
   "execution_count": 83,
   "id": "c64491a0-0409-4ab8-a463-c2a8edf6e5ba",
   "metadata": {},
   "outputs": [
    {
     "name": "stdout",
     "output_type": "stream",
     "text": [
      "\u001b[38;5;2m✔ Download and installation successful\u001b[0m\n",
      "You can now load the package via spacy.load('en_core_web_sm')\n"
     ]
    }
   ],
   "source": [
    "!python -m spacy download en_core_web_sm -q"
   ]
  },
  {
   "cell_type": "markdown",
   "id": "e2c5292d-b587-40d1-93c7-8da276e04d85",
   "metadata": {},
   "source": [
    "# Libraries"
   ]
  },
  {
   "cell_type": "code",
   "execution_count": 95,
   "id": "89487add-ff39-445a-a4af-d8372eb86d2c",
   "metadata": {},
   "outputs": [],
   "source": [
    "import pandas as pd\n",
    "import numpy as np\n",
    "import matplotlib.pyplot as plt\n",
    "import seaborn as sns\n",
    "from zipfile import ZipFile\n",
    "import nltk\n",
    "from nltk.tokenize import sent_tokenize\n",
    "from nltk.tokenize import word_tokenize\n",
    "import spacy\n",
    "import tensorflow as tf"
   ]
  },
  {
   "cell_type": "code",
   "execution_count": null,
   "id": "63437dd7-ab21-436d-8432-8cf55d6faaed",
   "metadata": {},
   "outputs": [],
   "source": [
    "sns.set_style(\"darkgrid\")\n",
    "nltk.download('punkt')"
   ]
  },
  {
   "cell_type": "markdown",
   "id": "95c89f43-ebb4-42ca-9621-2ed4013edf5b",
   "metadata": {},
   "source": [
    "# EDA"
   ]
  },
  {
   "cell_type": "code",
   "execution_count": null,
   "id": "8a025887-4920-44e4-9230-fe77b10a7e5b",
   "metadata": {},
   "outputs": [],
   "source": [
    "tweets_zip = ZipFile('nlp-getting-started.zip', 'r')\n",
    "tweets_zip.extractall('data')"
   ]
  },
  {
   "cell_type": "code",
   "execution_count": 168,
   "id": "736bf9e9-6c8f-4154-a248-824624911bcf",
   "metadata": {},
   "outputs": [],
   "source": [
    "train = pd.read_csv('data/train.csv')\n",
    "test = pd.read_csv('data/test.csv')\n",
    "submission = pd.read_csv('data/sample_submission.csv')"
   ]
  },
  {
   "cell_type": "code",
   "execution_count": 169,
   "id": "f9f36f90-f5ec-4818-8a19-e3985bab7071",
   "metadata": {},
   "outputs": [
    {
     "data": {
      "text/html": [
       "<div>\n",
       "<style scoped>\n",
       "    .dataframe tbody tr th:only-of-type {\n",
       "        vertical-align: middle;\n",
       "    }\n",
       "\n",
       "    .dataframe tbody tr th {\n",
       "        vertical-align: top;\n",
       "    }\n",
       "\n",
       "    .dataframe thead th {\n",
       "        text-align: right;\n",
       "    }\n",
       "</style>\n",
       "<table border=\"1\" class=\"dataframe\">\n",
       "  <thead>\n",
       "    <tr style=\"text-align: right;\">\n",
       "      <th></th>\n",
       "      <th>id</th>\n",
       "      <th>keyword</th>\n",
       "      <th>location</th>\n",
       "      <th>text</th>\n",
       "      <th>target</th>\n",
       "    </tr>\n",
       "  </thead>\n",
       "  <tbody>\n",
       "    <tr>\n",
       "      <th>0</th>\n",
       "      <td>1</td>\n",
       "      <td>NaN</td>\n",
       "      <td>NaN</td>\n",
       "      <td>Our Deeds are the Reason of this #earthquake M...</td>\n",
       "      <td>1</td>\n",
       "    </tr>\n",
       "    <tr>\n",
       "      <th>1</th>\n",
       "      <td>4</td>\n",
       "      <td>NaN</td>\n",
       "      <td>NaN</td>\n",
       "      <td>Forest fire near La Ronge Sask. Canada</td>\n",
       "      <td>1</td>\n",
       "    </tr>\n",
       "    <tr>\n",
       "      <th>2</th>\n",
       "      <td>5</td>\n",
       "      <td>NaN</td>\n",
       "      <td>NaN</td>\n",
       "      <td>All residents asked to 'shelter in place' are ...</td>\n",
       "      <td>1</td>\n",
       "    </tr>\n",
       "    <tr>\n",
       "      <th>3</th>\n",
       "      <td>6</td>\n",
       "      <td>NaN</td>\n",
       "      <td>NaN</td>\n",
       "      <td>13,000 people receive #wildfires evacuation or...</td>\n",
       "      <td>1</td>\n",
       "    </tr>\n",
       "    <tr>\n",
       "      <th>4</th>\n",
       "      <td>7</td>\n",
       "      <td>NaN</td>\n",
       "      <td>NaN</td>\n",
       "      <td>Just got sent this photo from Ruby #Alaska as ...</td>\n",
       "      <td>1</td>\n",
       "    </tr>\n",
       "  </tbody>\n",
       "</table>\n",
       "</div>"
      ],
      "text/plain": [
       "   id keyword location                                               text  \\\n",
       "0   1     NaN      NaN  Our Deeds are the Reason of this #earthquake M...   \n",
       "1   4     NaN      NaN             Forest fire near La Ronge Sask. Canada   \n",
       "2   5     NaN      NaN  All residents asked to 'shelter in place' are ...   \n",
       "3   6     NaN      NaN  13,000 people receive #wildfires evacuation or...   \n",
       "4   7     NaN      NaN  Just got sent this photo from Ruby #Alaska as ...   \n",
       "\n",
       "   target  \n",
       "0       1  \n",
       "1       1  \n",
       "2       1  \n",
       "3       1  \n",
       "4       1  "
      ]
     },
     "execution_count": 169,
     "metadata": {},
     "output_type": "execute_result"
    }
   ],
   "source": [
    "train.head()"
   ]
  },
  {
   "cell_type": "code",
   "execution_count": 170,
   "id": "7316d817-44b4-4ee8-9c80-4a1cb8a8c46c",
   "metadata": {},
   "outputs": [
    {
     "name": "stdout",
     "output_type": "stream",
     "text": [
      "There are 7613 rows in the train set and 3263 rows in the test set\n"
     ]
    }
   ],
   "source": [
    "print(f'There are {train.shape[0]} rows in the train set and {test.shape[0]} rows in the test set')"
   ]
  },
  {
   "cell_type": "code",
   "execution_count": 171,
   "id": "d3bd1a02-4feb-4e97-95c2-de2d32c2518e",
   "metadata": {},
   "outputs": [
    {
     "name": "stdout",
     "output_type": "stream",
     "text": [
      "<class 'pandas.core.frame.DataFrame'>\n",
      "RangeIndex: 7613 entries, 0 to 7612\n",
      "Data columns (total 5 columns):\n",
      " #   Column    Non-Null Count  Dtype \n",
      "---  ------    --------------  ----- \n",
      " 0   id        7613 non-null   int64 \n",
      " 1   keyword   7552 non-null   object\n",
      " 2   location  5080 non-null   object\n",
      " 3   text      7613 non-null   object\n",
      " 4   target    7613 non-null   int64 \n",
      "dtypes: int64(2), object(3)\n",
      "memory usage: 297.5+ KB\n"
     ]
    }
   ],
   "source": [
    "train.info()"
   ]
  },
  {
   "cell_type": "code",
   "execution_count": 172,
   "id": "51e38e33-5c07-42db-9987-6107a84a77e3",
   "metadata": {},
   "outputs": [
    {
     "name": "stdout",
     "output_type": "stream",
     "text": [
      "<class 'pandas.core.frame.DataFrame'>\n",
      "RangeIndex: 3263 entries, 0 to 3262\n",
      "Data columns (total 4 columns):\n",
      " #   Column    Non-Null Count  Dtype \n",
      "---  ------    --------------  ----- \n",
      " 0   id        3263 non-null   int64 \n",
      " 1   keyword   3237 non-null   object\n",
      " 2   location  2158 non-null   object\n",
      " 3   text      3263 non-null   object\n",
      "dtypes: int64(1), object(3)\n",
      "memory usage: 102.1+ KB\n"
     ]
    }
   ],
   "source": [
    "test.info()"
   ]
  },
  {
   "cell_type": "code",
   "execution_count": 173,
   "id": "52c80321-f61e-4700-9108-3308d12dc785",
   "metadata": {},
   "outputs": [],
   "source": [
    "train.drop(columns=['keyword', 'location'], inplace=True)\n",
    "test.drop(columns=['keyword', 'location'], inplace=True)"
   ]
  },
  {
   "cell_type": "code",
   "execution_count": 41,
   "id": "3d16e97c-cff3-42c3-ab16-80e6bdfc2a4e",
   "metadata": {},
   "outputs": [
    {
     "data": {
      "image/png": "[encoded data removed]",
      "text/plain": [
       "<Figure size 432x288 with 1 Axes>"
      ]
     },
     "metadata": {},
     "output_type": "display_data"
    }
   ],
   "source": [
    "ax = sns.barplot(x='target', y='target', data=train, estimator=lambda x: len(x) / len(train) * 100)\n",
    "ax.set(ylabel='Percent', title='Target distributon in the train set');"
   ]
  },
  {
   "cell_type": "code",
   "execution_count": 50,
   "id": "e0e549b4-8065-44a8-ba71-30931ec6a9cd",
   "metadata": {},
   "outputs": [
    {
     "data": {
      "text/html": [
       "<div>\n",
       "<style scoped>\n",
       "    .dataframe tbody tr th:only-of-type {\n",
       "        vertical-align: middle;\n",
       "    }\n",
       "\n",
       "    .dataframe tbody tr th {\n",
       "        vertical-align: top;\n",
       "    }\n",
       "\n",
       "    .dataframe thead th {\n",
       "        text-align: right;\n",
       "    }\n",
       "</style>\n",
       "<table border=\"1\" class=\"dataframe\">\n",
       "  <thead>\n",
       "    <tr style=\"text-align: right;\">\n",
       "      <th></th>\n",
       "      <th>id</th>\n",
       "      <th>keyword</th>\n",
       "      <th>location</th>\n",
       "      <th>text</th>\n",
       "      <th>target</th>\n",
       "    </tr>\n",
       "  </thead>\n",
       "  <tbody>\n",
       "    <tr>\n",
       "      <th>0</th>\n",
       "      <td>1</td>\n",
       "      <td>NaN</td>\n",
       "      <td>NaN</td>\n",
       "      <td>Our Deeds are the Reason of this #earthquake M...</td>\n",
       "      <td>1</td>\n",
       "    </tr>\n",
       "    <tr>\n",
       "      <th>1</th>\n",
       "      <td>4</td>\n",
       "      <td>NaN</td>\n",
       "      <td>NaN</td>\n",
       "      <td>Forest fire near La Ronge Sask. Canada</td>\n",
       "      <td>1</td>\n",
       "    </tr>\n",
       "    <tr>\n",
       "      <th>2</th>\n",
       "      <td>5</td>\n",
       "      <td>NaN</td>\n",
       "      <td>NaN</td>\n",
       "      <td>All residents asked to 'shelter in place' are ...</td>\n",
       "      <td>1</td>\n",
       "    </tr>\n",
       "    <tr>\n",
       "      <th>3</th>\n",
       "      <td>6</td>\n",
       "      <td>NaN</td>\n",
       "      <td>NaN</td>\n",
       "      <td>13,000 people receive #wildfires evacuation or...</td>\n",
       "      <td>1</td>\n",
       "    </tr>\n",
       "    <tr>\n",
       "      <th>4</th>\n",
       "      <td>7</td>\n",
       "      <td>NaN</td>\n",
       "      <td>NaN</td>\n",
       "      <td>Just got sent this photo from Ruby #Alaska as ...</td>\n",
       "      <td>1</td>\n",
       "    </tr>\n",
       "  </tbody>\n",
       "</table>\n",
       "</div>"
      ],
      "text/plain": [
       "   id keyword location                                               text  \\\n",
       "0   1     NaN      NaN  Our Deeds are the Reason of this #earthquake M...   \n",
       "1   4     NaN      NaN             Forest fire near La Ronge Sask. Canada   \n",
       "2   5     NaN      NaN  All residents asked to 'shelter in place' are ...   \n",
       "3   6     NaN      NaN  13,000 people receive #wildfires evacuation or...   \n",
       "4   7     NaN      NaN  Just got sent this photo from Ruby #Alaska as ...   \n",
       "\n",
       "   target  \n",
       "0       1  \n",
       "1       1  \n",
       "2       1  \n",
       "3       1  \n",
       "4       1  "
      ]
     },
     "execution_count": 50,
     "metadata": {},
     "output_type": "execute_result"
    }
   ],
   "source": [
    "train.head()"
   ]
  },
  {
   "cell_type": "code",
   "execution_count": 36,
   "id": "f66a4157-732d-4d4b-bdde-e1f1ce6c2054",
   "metadata": {},
   "outputs": [],
   "source": [
    "tokenizer = nltk.data.load('tokenizers/punkt/PY3/english.pickle')"
   ]
  },
  {
   "cell_type": "code",
   "execution_count": 51,
   "id": "fc42e5a0-af53-4075-81e0-1f5313753ee2",
   "metadata": {},
   "outputs": [
    {
     "data": {
      "text/html": [
       "<div>\n",
       "<style scoped>\n",
       "    .dataframe tbody tr th:only-of-type {\n",
       "        vertical-align: middle;\n",
       "    }\n",
       "\n",
       "    .dataframe tbody tr th {\n",
       "        vertical-align: top;\n",
       "    }\n",
       "\n",
       "    .dataframe thead th {\n",
       "        text-align: right;\n",
       "    }\n",
       "</style>\n",
       "<table border=\"1\" class=\"dataframe\">\n",
       "  <thead>\n",
       "    <tr style=\"text-align: right;\">\n",
       "      <th></th>\n",
       "      <th>id</th>\n",
       "      <th>keyword</th>\n",
       "      <th>location</th>\n",
       "      <th>text</th>\n",
       "      <th>target</th>\n",
       "      <th>count_sentences</th>\n",
       "      <th>count_words</th>\n",
       "    </tr>\n",
       "  </thead>\n",
       "  <tbody>\n",
       "    <tr>\n",
       "      <th>0</th>\n",
       "      <td>1</td>\n",
       "      <td>NaN</td>\n",
       "      <td>NaN</td>\n",
       "      <td>Our Deeds are the Reason of this #earthquake M...</td>\n",
       "      <td>1</td>\n",
       "      <td>1</td>\n",
       "      <td>14</td>\n",
       "    </tr>\n",
       "    <tr>\n",
       "      <th>1</th>\n",
       "      <td>4</td>\n",
       "      <td>NaN</td>\n",
       "      <td>NaN</td>\n",
       "      <td>Forest fire near La Ronge Sask. Canada</td>\n",
       "      <td>1</td>\n",
       "      <td>2</td>\n",
       "      <td>8</td>\n",
       "    </tr>\n",
       "    <tr>\n",
       "      <th>2</th>\n",
       "      <td>5</td>\n",
       "      <td>NaN</td>\n",
       "      <td>NaN</td>\n",
       "      <td>All residents asked to 'shelter in place' are ...</td>\n",
       "      <td>1</td>\n",
       "      <td>2</td>\n",
       "      <td>24</td>\n",
       "    </tr>\n",
       "    <tr>\n",
       "      <th>3</th>\n",
       "      <td>6</td>\n",
       "      <td>NaN</td>\n",
       "      <td>NaN</td>\n",
       "      <td>13,000 people receive #wildfires evacuation or...</td>\n",
       "      <td>1</td>\n",
       "      <td>1</td>\n",
       "      <td>9</td>\n",
       "    </tr>\n",
       "    <tr>\n",
       "      <th>4</th>\n",
       "      <td>7</td>\n",
       "      <td>NaN</td>\n",
       "      <td>NaN</td>\n",
       "      <td>Just got sent this photo from Ruby #Alaska as ...</td>\n",
       "      <td>1</td>\n",
       "      <td>1</td>\n",
       "      <td>18</td>\n",
       "    </tr>\n",
       "    <tr>\n",
       "      <th>5</th>\n",
       "      <td>8</td>\n",
       "      <td>NaN</td>\n",
       "      <td>NaN</td>\n",
       "      <td>#RockyFire Update =&gt; California Hwy. 20 closed...</td>\n",
       "      <td>1</td>\n",
       "      <td>2</td>\n",
       "      <td>23</td>\n",
       "    </tr>\n",
       "    <tr>\n",
       "      <th>6</th>\n",
       "      <td>10</td>\n",
       "      <td>NaN</td>\n",
       "      <td>NaN</td>\n",
       "      <td>#flood #disaster Heavy rain causes flash flood...</td>\n",
       "      <td>1</td>\n",
       "      <td>1</td>\n",
       "      <td>17</td>\n",
       "    </tr>\n",
       "    <tr>\n",
       "      <th>7</th>\n",
       "      <td>13</td>\n",
       "      <td>NaN</td>\n",
       "      <td>NaN</td>\n",
       "      <td>I'm on top of the hill and I can see a fire in...</td>\n",
       "      <td>1</td>\n",
       "      <td>1</td>\n",
       "      <td>17</td>\n",
       "    </tr>\n",
       "    <tr>\n",
       "      <th>8</th>\n",
       "      <td>14</td>\n",
       "      <td>NaN</td>\n",
       "      <td>NaN</td>\n",
       "      <td>There's an emergency evacuation happening now ...</td>\n",
       "      <td>1</td>\n",
       "      <td>1</td>\n",
       "      <td>13</td>\n",
       "    </tr>\n",
       "    <tr>\n",
       "      <th>9</th>\n",
       "      <td>15</td>\n",
       "      <td>NaN</td>\n",
       "      <td>NaN</td>\n",
       "      <td>I'm afraid that the tornado is coming to our a...</td>\n",
       "      <td>1</td>\n",
       "      <td>1</td>\n",
       "      <td>12</td>\n",
       "    </tr>\n",
       "  </tbody>\n",
       "</table>\n",
       "</div>"
      ],
      "text/plain": [
       "   id keyword location                                               text  \\\n",
       "0   1     NaN      NaN  Our Deeds are the Reason of this #earthquake M...   \n",
       "1   4     NaN      NaN             Forest fire near La Ronge Sask. Canada   \n",
       "2   5     NaN      NaN  All residents asked to 'shelter in place' are ...   \n",
       "3   6     NaN      NaN  13,000 people receive #wildfires evacuation or...   \n",
       "4   7     NaN      NaN  Just got sent this photo from Ruby #Alaska as ...   \n",
       "5   8     NaN      NaN  #RockyFire Update => California Hwy. 20 closed...   \n",
       "6  10     NaN      NaN  #flood #disaster Heavy rain causes flash flood...   \n",
       "7  13     NaN      NaN  I'm on top of the hill and I can see a fire in...   \n",
       "8  14     NaN      NaN  There's an emergency evacuation happening now ...   \n",
       "9  15     NaN      NaN  I'm afraid that the tornado is coming to our a...   \n",
       "\n",
       "   target  count_sentences  count_words  \n",
       "0       1                1           14  \n",
       "1       1                2            8  \n",
       "2       1                2           24  \n",
       "3       1                1            9  \n",
       "4       1                1           18  \n",
       "5       1                2           23  \n",
       "6       1                1           17  \n",
       "7       1                1           17  \n",
       "8       1                1           13  \n",
       "9       1                1           12  "
      ]
     },
     "execution_count": 51,
     "metadata": {},
     "output_type": "execute_result"
    }
   ],
   "source": [
    "train['count_sentences'] = train['text'].apply(lambda x : len(sent_tokenize(x)))\n",
    "train['count_words'] = train['text'].apply(lambda x : len(word_tokenize(x)))\n",
    "train.head(10)"
   ]
  },
  {
   "cell_type": "code",
   "execution_count": 65,
   "id": "d4b7c78e-43c7-4740-9d59-35c80f3578a6",
   "metadata": {},
   "outputs": [
    {
     "data": {
      "text/plain": [
       "<seaborn.axisgrid.FacetGrid at 0x17bf93be0>"
      ]
     },
     "execution_count": 65,
     "metadata": {},
     "output_type": "execute_result"
    },
    {
     "data": {
      "image/png": "[encoded data removed]",
      "text/plain": [
       "<Figure size 576x288 with 2 Axes>"
      ]
     },
     "metadata": {},
     "output_type": "display_data"
    }
   ],
   "source": [
    "g = sns.FacetGrid(train, col='target', height=4)\n",
    "g.map(sns.histplot,'count_sentences', bins=12, stat='percent')"
   ]
  },
  {
   "cell_type": "code",
   "execution_count": 64,
   "id": "d0b06d66-de36-43d5-8fde-1b2a2ad86336",
   "metadata": {},
   "outputs": [
    {
     "data": {
      "text/plain": [
       "<seaborn.axisgrid.FacetGrid at 0x17bf931c0>"
      ]
     },
     "execution_count": 64,
     "metadata": {},
     "output_type": "execute_result"
    },
    {
     "data": {
      "image/png": "[encoded data removed]",
      "text/plain": [
       "<Figure size 576x288 with 2 Axes>"
      ]
     },
     "metadata": {},
     "output_type": "display_data"
    }
   ],
   "source": [
    "g = sns.FacetGrid(train, col='target', height=4)\n",
    "g.map(sns.histplot,'count_words', stat='percent')"
   ]
  },
  {
   "cell_type": "code",
   "execution_count": 76,
   "id": "3bd20f3b-16b0-46de-b446-907cebf76513",
   "metadata": {},
   "outputs": [
    {
     "name": "stdout",
     "output_type": "stream",
     "text": [
      "For distaster tweets:\n",
      "The mean number of sentences is 1.4 and the median is 1.0\n",
      "The mean number of words is 19.26 and the median is 20.0\n",
      "For non distaster tweets:\n",
      "The mean number of sentences is 1.6 and the median is 1.0\n",
      "The mean number of words is 18.66 and the median is 19.0\n"
     ]
    }
   ],
   "source": [
    "train_disasters = train[train['target'] == 1]\n",
    "train_not_disasters = train[train['target'] == 0]\n",
    "\n",
    "print('For distaster tweets:')\n",
    "print(f'The mean number of sentences is {round(train_disasters[\"count_sentences\"].mean(),2)} and the median is {train_disasters[\"count_sentences\"].median()}')\n",
    "print(f'The mean number of words is {round(train_disasters[\"count_words\"].mean(),2)} and the median is {train_disasters[\"count_words\"].median()}')\n",
    "\n",
    "print('For non distaster tweets:')\n",
    "print(f'The mean number of sentences is {round(train_not_disasters[\"count_sentences\"].mean(),2)} and the median is {train_not_disasters[\"count_sentences\"].median()}')\n",
    "print(f'The mean number of words is {round(train_not_disasters[\"count_words\"].mean(),2)} and the median is {train_not_disasters[\"count_words\"].median()}')"
   ]
  },
  {
   "cell_type": "markdown",
   "id": "56fe0839-6958-46a9-a7cd-316dd3727172",
   "metadata": {},
   "source": [
    "Disaster tweets are slightly longer"
   ]
  },
  {
   "cell_type": "markdown",
   "id": "02880959-ac02-402b-8c3e-a90944163d15",
   "metadata": {},
   "source": [
    "# Preprocessing"
   ]
  },
  {
   "cell_type": "code",
   "execution_count": 85,
   "id": "472c6169-9b3d-46d1-9f7d-7bdccdbef9eb",
   "metadata": {},
   "outputs": [],
   "source": [
    "import en_core_web_sm\n",
    "nlp = en_core_web_sm.load()\n",
    "from spacy.lang.en.stop_words import STOP_WORDS\n",
    "from nltk.tokenize import TweetTokenizer"
   ]
  },
  {
   "cell_type": "code",
   "execution_count": 229,
   "id": "45cbdc38-eed3-4fa3-89f3-5f0e4fb37fae",
   "metadata": {},
   "outputs": [],
   "source": [
    "def preprocess(text):\n",
    "    #train['text_clean'] = train['text'].apply(lambda x:''.join(ch for ch in x if ch.isalnum() or ch==' '))\n",
    "    text = ''.join(ch for ch in text if ch.isalnum() or ch==' ')\n",
    "    text = text.lower().strip()\n",
    "    text = ' '.join([token.lemma_ for token in nlp(text) if (token.lemma_ not in STOP_WORDS) and (token.text not in STOP_WORDS)])\n",
    "    return text"
   ]
  },
  {
   "cell_type": "code",
   "execution_count": 183,
   "id": "ebaab8a4-8007-4fa0-b23a-25890d16f730",
   "metadata": {},
   "outputs": [],
   "source": [
    "train['text_clean'] = train['text'].apply(lambda x: preprocess(x))\n",
    "test['text_clean'] = test['text'].apply(lambda x: preprocess(x))"
   ]
  },
  {
   "cell_type": "code",
   "execution_count": 182,
   "id": "b30f9dee-dc3d-4a14-a8d6-b8794054bd26",
   "metadata": {},
   "outputs": [
    {
     "data": {
      "text/html": [
       "<div>\n",
       "<style scoped>\n",
       "    .dataframe tbody tr th:only-of-type {\n",
       "        vertical-align: middle;\n",
       "    }\n",
       "\n",
       "    .dataframe tbody tr th {\n",
       "        vertical-align: top;\n",
       "    }\n",
       "\n",
       "    .dataframe thead th {\n",
       "        text-align: right;\n",
       "    }\n",
       "</style>\n",
       "<table border=\"1\" class=\"dataframe\">\n",
       "  <thead>\n",
       "    <tr style=\"text-align: right;\">\n",
       "      <th></th>\n",
       "      <th>id</th>\n",
       "      <th>text</th>\n",
       "      <th>target</th>\n",
       "      <th>text_clean</th>\n",
       "    </tr>\n",
       "  </thead>\n",
       "  <tbody>\n",
       "    <tr>\n",
       "      <th>0</th>\n",
       "      <td>1</td>\n",
       "      <td>Our Deeds are the Reason of this #earthquake M...</td>\n",
       "      <td>1</td>\n",
       "      <td>deed reason earthquake allah forgive</td>\n",
       "    </tr>\n",
       "    <tr>\n",
       "      <th>1</th>\n",
       "      <td>4</td>\n",
       "      <td>Forest fire near La Ronge Sask. Canada</td>\n",
       "      <td>1</td>\n",
       "      <td>forest fire near la ronge sask canada</td>\n",
       "    </tr>\n",
       "    <tr>\n",
       "      <th>2</th>\n",
       "      <td>5</td>\n",
       "      <td>All residents asked to 'shelter in place' are ...</td>\n",
       "      <td>1</td>\n",
       "      <td>resident ask shelter place notify officer evac...</td>\n",
       "    </tr>\n",
       "    <tr>\n",
       "      <th>3</th>\n",
       "      <td>6</td>\n",
       "      <td>13,000 people receive #wildfires evacuation or...</td>\n",
       "      <td>1</td>\n",
       "      <td>13000 people receive wildfire evacuation order...</td>\n",
       "    </tr>\n",
       "    <tr>\n",
       "      <th>4</th>\n",
       "      <td>7</td>\n",
       "      <td>Just got sent this photo from Ruby #Alaska as ...</td>\n",
       "      <td>1</td>\n",
       "      <td>got send photo ruby alaska smoke wildfire pour...</td>\n",
       "    </tr>\n",
       "  </tbody>\n",
       "</table>\n",
       "</div>"
      ],
      "text/plain": [
       "   id                                               text  target  \\\n",
       "0   1  Our Deeds are the Reason of this #earthquake M...       1   \n",
       "1   4             Forest fire near La Ronge Sask. Canada       1   \n",
       "2   5  All residents asked to 'shelter in place' are ...       1   \n",
       "3   6  13,000 people receive #wildfires evacuation or...       1   \n",
       "4   7  Just got sent this photo from Ruby #Alaska as ...       1   \n",
       "\n",
       "                                          text_clean  \n",
       "0               deed reason earthquake allah forgive  \n",
       "1              forest fire near la ronge sask canada  \n",
       "2  resident ask shelter place notify officer evac...  \n",
       "3  13000 people receive wildfire evacuation order...  \n",
       "4  got send photo ruby alaska smoke wildfire pour...  "
      ]
     },
     "execution_count": 182,
     "metadata": {},
     "output_type": "execute_result"
    }
   ],
   "source": [
    "train.head()"
   ]
  },
  {
   "cell_type": "code",
   "execution_count": 92,
   "id": "f5b11c79-e290-4a6e-96dd-65ef0edf7a2b",
   "metadata": {},
   "outputs": [],
   "source": [
    "# Using TweetTokenizer from NLTK instead of TF Tokenizer as it handles better casual language\n",
    "#tknzr = TweetTokenizer(strip_handles=True, reduce_len=True)\n",
    "#train['text_tokenize'] = train['text_clean'].apply(lambda x : tknzr.tokenize(x))"
   ]
  },
  {
   "cell_type": "code",
   "execution_count": 193,
   "id": "1a159a05-6178-4529-9eaa-48306f8b0289",
   "metadata": {},
   "outputs": [],
   "source": [
    "tokenizer = tf.keras.preprocessing.text.Tokenizer(num_words=10000, oov_token='OOV') # instanciate the tokenizer\n",
    "tokenizer.fit_on_texts(train['text_clean'])\n",
    "train['text_encoded'] = tokenizer.texts_to_sequences(train['text_clean'])\n",
    "test['text_encoded'] = tokenizer.texts_to_sequences(test['text_clean'])\n",
    "train['len_text'] = train['text_clean'].apply(lambda x: len(x))\n",
    "train = train[train['len_text']!=0]"
   ]
  },
  {
   "cell_type": "code",
   "execution_count": 185,
   "id": "d9e2ac29-8084-4938-99b7-a5060f1583e6",
   "metadata": {},
   "outputs": [
    {
     "data": {
      "text/plain": [
       "array([[3654,  413,  173, ...,    0,    0,    0],\n",
       "       [ 119,    4,  162, ...,    0,    0,    0],\n",
       "       [1383,  445, 1704, ...,    0,    0,    0],\n",
       "       ...,\n",
       "       [2685, 3648, 5509, ...,    0,    0,    0],\n",
       "       [  24,  740, 2569, ...,    0,    0,    0],\n",
       "       [ 107,   26,  359, ...,    0,    0,    0]], dtype=int32)"
      ]
     },
     "execution_count": 185,
     "metadata": {},
     "output_type": "execute_result"
    }
   ],
   "source": [
    "text_pad = tf.keras.preprocessing.sequence.pad_sequences(train['text_encoded'], padding=\"post\")\n",
    "text_pad"
   ]
  },
  {
   "cell_type": "code",
   "execution_count": 186,
   "id": "55711b00-6c86-4cef-90e5-49ea09bd6844",
   "metadata": {},
   "outputs": [],
   "source": [
    "full_ds = tf.data.Dataset.from_tensor_slices((text_pad, train['target']))"
   ]
  },
  {
   "cell_type": "code",
   "execution_count": 197,
   "id": "3a958046-cc74-4f2c-a46a-0d1a00bffefa",
   "metadata": {},
   "outputs": [],
   "source": [
    "# Train Test Split\n",
    "TAKE_SIZE = int(0.7*train.shape[0])\n",
    "\n",
    "train_data = full_ds.take(TAKE_SIZE).shuffle(TAKE_SIZE)\n",
    "train_data = train_data.batch(100)\n",
    "\n",
    "val_data = full_ds.skip(TAKE_SIZE)\n",
    "val_data = val_data.batch(100)"
   ]
  },
  {
   "cell_type": "code",
   "execution_count": 188,
   "id": "90423b1b-9222-4ec1-ba1e-b1f01c49ebed",
   "metadata": {},
   "outputs": [
    {
     "name": "stdout",
     "output_type": "stream",
     "text": [
      "tf.Tensor(\n",
      "[[   1 1285  444 ...    0    0    0]\n",
      " [2034  933   41 ...    0    0    0]\n",
      " [   3  225 2879 ...    0    0    0]\n",
      " ...\n",
      " [   1  556 2072 ...    0    0    0]\n",
      " [1556   63   61 ...    0    0    0]\n",
      " [1281   41 2143 ...    0    0    0]], shape=(100, 25), dtype=int32) tf.Tensor(\n",
      "[1 1 0 0 0 1 0 0 0 1 1 0 1 1 0 0 1 1 1 1 0 0 1 1 0 0 1 0 0 0 0 1 0 0 0 1 0\n",
      " 1 0 0 1 0 0 0 1 0 1 0 0 1 1 0 0 0 0 0 0 1 0 0 0 1 1 0 0 0 1 0 1 0 0 1 1 0\n",
      " 1 0 1 0 0 0 0 1 1 0 1 1 0 0 1 1 1 1 0 0 1 1 0 0 0 1], shape=(100,), dtype=int64)\n"
     ]
    }
   ],
   "source": [
    "for tweet, target in train_data.take(1):\n",
    "    print(tweet, target)"
   ]
  },
  {
   "cell_type": "code",
   "execution_count": 189,
   "id": "4ad37308-23b3-4492-b8a5-1dd85b569296",
   "metadata": {},
   "outputs": [],
   "source": [
    "vocab_size = tokenizer.num_words\n",
    "model = tf.keras.Sequential([\n",
    "                  # Couche d'Input Word Embedding           \n",
    "                  tf.keras.layers.Embedding(vocab_size+1, 8, input_shape=[tweet.shape[1],],name=\"embedding\"),\n",
    "                  # Gobal average pooling\n",
    "                  tf.keras.layers.GlobalAveragePooling1D(),\n",
    "\n",
    "                  # Couche Dense classique\n",
    "                  tf.keras.layers.Dense(16, activation='relu'),\n",
    "                  tf.keras.layers.Dense(8, activation='relu'),\n",
    "\n",
    "                  # Couche de sortie avec le nombre de neurones en sortie égale au nombre de classe avec fonction softmax\n",
    "                  tf.keras.layers.Dense(1, activation=\"sigmoid\")\n",
    "])"
   ]
  },
  {
   "cell_type": "code",
   "execution_count": 190,
   "id": "01b50f9c-68cf-43c9-bd78-664b6a466b8a",
   "metadata": {},
   "outputs": [
    {
     "name": "stdout",
     "output_type": "stream",
     "text": [
      "Model: \"sequential_2\"\n",
      "_________________________________________________________________\n",
      " Layer (type)                Output Shape              Param #   \n",
      "=================================================================\n",
      " embedding (Embedding)       (None, 25, 8)             80008     \n",
      "                                                                 \n",
      " global_average_pooling1d_2   (None, 8)                0         \n",
      " (GlobalAveragePooling1D)                                        \n",
      "                                                                 \n",
      " dense_6 (Dense)             (None, 16)                144       \n",
      "                                                                 \n",
      " dense_7 (Dense)             (None, 8)                 136       \n",
      "                                                                 \n",
      " dense_8 (Dense)             (None, 1)                 9         \n",
      "                                                                 \n",
      "=================================================================\n",
      "Total params: 80,297\n",
      "Trainable params: 80,297\n",
      "Non-trainable params: 0\n",
      "_________________________________________________________________\n"
     ]
    }
   ],
   "source": [
    "model.summary()"
   ]
  },
  {
   "cell_type": "code",
   "execution_count": 191,
   "id": "0fadafbb-f2ec-4444-9640-5374404965e5",
   "metadata": {},
   "outputs": [],
   "source": [
    "optimizer= tf.keras.optimizers.Adam()\n",
    "\n",
    "model.compile(optimizer=optimizer,\n",
    "              loss=tf.keras.losses.BinaryCrossentropy(),\n",
    "              metrics=[tf.keras.metrics.BinaryCrossentropy()])"
   ]
  },
  {
   "cell_type": "code",
   "execution_count": 192,
   "id": "e32c4cd8-ea06-49ea-b05d-7afdd45db39d",
   "metadata": {},
   "outputs": [
    {
     "name": "stdout",
     "output_type": "stream",
     "text": [
      "Epoch 1/50\n",
      " 1/54 [..............................] - ETA: 20s - loss: 0.6931 - binary_crossentropy: 0.6931"
     ]
    },
    {
     "name": "stderr",
     "output_type": "stream",
     "text": [
      "2022-09-27 15:50:35.810015: I tensorflow/core/grappler/optimizers/custom_graph_optimizer_registry.cc:113] Plugin optimizer for device_type GPU is enabled.\n"
     ]
    },
    {
     "name": "stdout",
     "output_type": "stream",
     "text": [
      "54/54 [==============================] - 1s 18ms/step - loss: 0.6859 - binary_crossentropy: 0.6859 - val_loss: 0.6831 - val_binary_crossentropy: 0.6831\n",
      "Epoch 2/50\n",
      " 1/54 [..............................] - ETA: 0s - loss: 0.6780 - binary_crossentropy: 0.6780"
     ]
    },
    {
     "name": "stderr",
     "output_type": "stream",
     "text": [
      "2022-09-27 15:50:36.811849: I tensorflow/core/grappler/optimizers/custom_graph_optimizer_registry.cc:113] Plugin optimizer for device_type GPU is enabled.\n"
     ]
    },
    {
     "name": "stdout",
     "output_type": "stream",
     "text": [
      "54/54 [==============================] - 1s 14ms/step - loss: 0.6733 - binary_crossentropy: 0.6733 - val_loss: 0.6777 - val_binary_crossentropy: 0.6777\n",
      "Epoch 3/50\n",
      "54/54 [==============================] - 1s 13ms/step - loss: 0.6537 - binary_crossentropy: 0.6537 - val_loss: 0.6528 - val_binary_crossentropy: 0.6528\n",
      "Epoch 4/50\n",
      "54/54 [==============================] - 1s 12ms/step - loss: 0.5907 - binary_crossentropy: 0.5907 - val_loss: 0.6054 - val_binary_crossentropy: 0.6054\n",
      "Epoch 5/50\n",
      "54/54 [==============================] - 1s 11ms/step - loss: 0.4981 - binary_crossentropy: 0.4981 - val_loss: 0.5517 - val_binary_crossentropy: 0.5517\n",
      "Epoch 6/50\n",
      "54/54 [==============================] - 1s 12ms/step - loss: 0.4030 - binary_crossentropy: 0.4030 - val_loss: 0.5150 - val_binary_crossentropy: 0.5150\n",
      "Epoch 7/50\n",
      "54/54 [==============================] - 1s 11ms/step - loss: 0.3337 - binary_crossentropy: 0.3337 - val_loss: 0.4942 - val_binary_crossentropy: 0.4942\n",
      "Epoch 8/50\n",
      "54/54 [==============================] - 1s 12ms/step - loss: 0.2845 - binary_crossentropy: 0.2845 - val_loss: 0.4913 - val_binary_crossentropy: 0.4913\n",
      "Epoch 9/50\n",
      "54/54 [==============================] - 1s 11ms/step - loss: 0.2484 - binary_crossentropy: 0.2484 - val_loss: 0.4964 - val_binary_crossentropy: 0.4964\n",
      "Epoch 10/50\n",
      "54/54 [==============================] - 1s 12ms/step - loss: 0.2208 - binary_crossentropy: 0.2208 - val_loss: 0.5078 - val_binary_crossentropy: 0.5078\n",
      "Epoch 11/50\n",
      "54/54 [==============================] - 1s 11ms/step - loss: 0.1969 - binary_crossentropy: 0.1969 - val_loss: 0.5226 - val_binary_crossentropy: 0.5226\n",
      "Epoch 12/50\n",
      "54/54 [==============================] - 1s 11ms/step - loss: 0.1764 - binary_crossentropy: 0.1764 - val_loss: 0.5393 - val_binary_crossentropy: 0.5393\n",
      "Epoch 13/50\n",
      "54/54 [==============================] - 1s 11ms/step - loss: 0.1594 - binary_crossentropy: 0.1594 - val_loss: 0.5607 - val_binary_crossentropy: 0.5607\n",
      "Epoch 14/50\n",
      "54/54 [==============================] - 1s 11ms/step - loss: 0.1439 - binary_crossentropy: 0.1439 - val_loss: 0.5949 - val_binary_crossentropy: 0.5949\n",
      "Epoch 15/50\n",
      "54/54 [==============================] - 1s 11ms/step - loss: 0.1306 - binary_crossentropy: 0.1306 - val_loss: 0.6171 - val_binary_crossentropy: 0.6171\n",
      "Epoch 16/50\n",
      "54/54 [==============================] - 1s 11ms/step - loss: 0.1195 - binary_crossentropy: 0.1195 - val_loss: 0.6366 - val_binary_crossentropy: 0.6366\n",
      "Epoch 17/50\n",
      "54/54 [==============================] - 1s 11ms/step - loss: 0.1097 - binary_crossentropy: 0.1097 - val_loss: 0.6584 - val_binary_crossentropy: 0.6584\n",
      "Epoch 18/50\n",
      "54/54 [==============================] - 1s 11ms/step - loss: 0.1013 - binary_crossentropy: 0.1013 - val_loss: 0.6947 - val_binary_crossentropy: 0.6947\n",
      "Epoch 19/50\n",
      "54/54 [==============================] - 1s 11ms/step - loss: 0.0937 - binary_crossentropy: 0.0937 - val_loss: 0.7216 - val_binary_crossentropy: 0.7216\n",
      "Epoch 20/50\n",
      "54/54 [==============================] - 1s 11ms/step - loss: 0.0870 - binary_crossentropy: 0.0870 - val_loss: 0.7433 - val_binary_crossentropy: 0.7433\n",
      "Epoch 21/50\n",
      "54/54 [==============================] - 1s 11ms/step - loss: 0.0820 - binary_crossentropy: 0.0820 - val_loss: 0.7697 - val_binary_crossentropy: 0.7697\n",
      "Epoch 22/50\n",
      "54/54 [==============================] - 1s 11ms/step - loss: 0.0768 - binary_crossentropy: 0.0768 - val_loss: 0.7987 - val_binary_crossentropy: 0.7987\n",
      "Epoch 23/50\n",
      "54/54 [==============================] - 1s 11ms/step - loss: 0.0726 - binary_crossentropy: 0.0726 - val_loss: 0.8333 - val_binary_crossentropy: 0.8333\n",
      "Epoch 24/50\n",
      "54/54 [==============================] - 1s 10ms/step - loss: 0.0701 - binary_crossentropy: 0.0701 - val_loss: 0.8550 - val_binary_crossentropy: 0.8550\n",
      "Epoch 25/50\n",
      "54/54 [==============================] - 1s 11ms/step - loss: 0.0663 - binary_crossentropy: 0.0663 - val_loss: 0.8800 - val_binary_crossentropy: 0.8800\n",
      "Epoch 26/50\n",
      "54/54 [==============================] - 1s 11ms/step - loss: 0.0634 - binary_crossentropy: 0.0634 - val_loss: 0.9010 - val_binary_crossentropy: 0.9010\n",
      "Epoch 27/50\n",
      "54/54 [==============================] - 1s 10ms/step - loss: 0.0609 - binary_crossentropy: 0.0609 - val_loss: 0.9258 - val_binary_crossentropy: 0.9258\n",
      "Epoch 28/50\n",
      "54/54 [==============================] - 1s 11ms/step - loss: 0.0576 - binary_crossentropy: 0.0576 - val_loss: 0.9513 - val_binary_crossentropy: 0.9513\n",
      "Epoch 29/50\n",
      "54/54 [==============================] - 1s 10ms/step - loss: 0.0593 - binary_crossentropy: 0.0593 - val_loss: 0.9759 - val_binary_crossentropy: 0.9759\n",
      "Epoch 30/50\n",
      "54/54 [==============================] - 1s 10ms/step - loss: 0.0539 - binary_crossentropy: 0.0539 - val_loss: 1.0022 - val_binary_crossentropy: 1.0022\n",
      "Epoch 31/50\n",
      "54/54 [==============================] - 1s 11ms/step - loss: 0.0545 - binary_crossentropy: 0.0545 - val_loss: 1.0382 - val_binary_crossentropy: 1.0382\n",
      "Epoch 32/50\n",
      "54/54 [==============================] - 1s 10ms/step - loss: 0.0515 - binary_crossentropy: 0.0515 - val_loss: 1.0497 - val_binary_crossentropy: 1.0497\n",
      "Epoch 33/50\n",
      "54/54 [==============================] - 1s 10ms/step - loss: 0.0495 - binary_crossentropy: 0.0495 - val_loss: 1.0813 - val_binary_crossentropy: 1.0813\n",
      "Epoch 34/50\n",
      "54/54 [==============================] - 1s 10ms/step - loss: 0.0479 - binary_crossentropy: 0.0479 - val_loss: 1.0893 - val_binary_crossentropy: 1.0893\n",
      "Epoch 35/50\n",
      "54/54 [==============================] - 1s 10ms/step - loss: 0.0488 - binary_crossentropy: 0.0488 - val_loss: 1.1136 - val_binary_crossentropy: 1.1136\n",
      "Epoch 36/50\n",
      "54/54 [==============================] - 1s 10ms/step - loss: 0.0498 - binary_crossentropy: 0.0498 - val_loss: 1.1274 - val_binary_crossentropy: 1.1274\n",
      "Epoch 37/50\n",
      "54/54 [==============================] - 1s 12ms/step - loss: 0.0457 - binary_crossentropy: 0.0457 - val_loss: 1.1503 - val_binary_crossentropy: 1.1503\n",
      "Epoch 38/50\n",
      "54/54 [==============================] - 1s 11ms/step - loss: 0.0444 - binary_crossentropy: 0.0444 - val_loss: 1.1669 - val_binary_crossentropy: 1.1669\n",
      "Epoch 39/50\n",
      "54/54 [==============================] - 1s 10ms/step - loss: 0.0438 - binary_crossentropy: 0.0438 - val_loss: 1.1907 - val_binary_crossentropy: 1.1907\n",
      "Epoch 40/50\n",
      "54/54 [==============================] - 1s 10ms/step - loss: 0.0429 - binary_crossentropy: 0.0429 - val_loss: 1.2081 - val_binary_crossentropy: 1.2081\n",
      "Epoch 41/50\n",
      "54/54 [==============================] - 1s 10ms/step - loss: 0.0427 - binary_crossentropy: 0.0427 - val_loss: 1.2305 - val_binary_crossentropy: 1.2305\n",
      "Epoch 42/50\n",
      "54/54 [==============================] - 1s 10ms/step - loss: 0.0405 - binary_crossentropy: 0.0405 - val_loss: 1.2491 - val_binary_crossentropy: 1.2491\n",
      "Epoch 43/50\n",
      "54/54 [==============================] - 1s 10ms/step - loss: 0.0392 - binary_crossentropy: 0.0392 - val_loss: 1.2674 - val_binary_crossentropy: 1.2674\n",
      "Epoch 44/50\n",
      "54/54 [==============================] - 1s 10ms/step - loss: 0.0393 - binary_crossentropy: 0.0393 - val_loss: 1.2920 - val_binary_crossentropy: 1.2920\n",
      "Epoch 45/50\n",
      "54/54 [==============================] - 1s 11ms/step - loss: 0.0394 - binary_crossentropy: 0.0394 - val_loss: 1.3148 - val_binary_crossentropy: 1.3148\n",
      "Epoch 46/50\n",
      "54/54 [==============================] - 1s 10ms/step - loss: 0.0381 - binary_crossentropy: 0.0381 - val_loss: 1.3298 - val_binary_crossentropy: 1.3298\n",
      "Epoch 47/50\n",
      "54/54 [==============================] - 1s 10ms/step - loss: 0.0377 - binary_crossentropy: 0.0377 - val_loss: 1.3431 - val_binary_crossentropy: 1.3431\n",
      "Epoch 48/50\n",
      "54/54 [==============================] - 1s 10ms/step - loss: 0.0374 - binary_crossentropy: 0.0374 - val_loss: 1.3587 - val_binary_crossentropy: 1.3587\n",
      "Epoch 49/50\n",
      "54/54 [==============================] - 1s 10ms/step - loss: 0.0369 - binary_crossentropy: 0.0369 - val_loss: 1.3821 - val_binary_crossentropy: 1.3821\n",
      "Epoch 50/50\n",
      "54/54 [==============================] - 1s 10ms/step - loss: 0.0373 - binary_crossentropy: 0.0373 - val_loss: 1.4033 - val_binary_crossentropy: 1.4033\n"
     ]
    }
   ],
   "source": [
    "# Entrainement du modèle \n",
    "history = model.fit(train_data, \n",
    "                    epochs=50, \n",
    "                    validation_data=val_data)"
   ]
  },
  {
   "cell_type": "markdown",
   "id": "bac6efa3-38e8-4097-a5d9-ab5d4fd1adcf",
   "metadata": {},
   "source": [
    "# Prediction"
   ]
  },
  {
   "cell_type": "code",
   "execution_count": 224,
   "id": "2badfc24-ef27-4bf9-9318-903b1a361049",
   "metadata": {},
   "outputs": [
    {
     "name": "stdout",
     "output_type": "stream",
     "text": [
      "102/102 [==============================] - 0s 2ms/step\n"
     ]
    }
   ],
   "source": [
    "text_pad_test = tf.keras.preprocessing.sequence.pad_sequences(test['text_encoded'], padding=\"post\", maxlen=tweet.shape[1])\n",
    "test['prediction'] = model.predict(text_pad_test)\n",
    "test['prediction'] = test['prediction'].apply(lambda x: 1 if x>0.5 else 0)"
   ]
  },
  {
   "cell_type": "code",
   "execution_count": 228,
   "id": "b33c4c09-3f62-46c1-8185-fb6379b5a096",
   "metadata": {},
   "outputs": [
    {
     "data": {
      "text/html": [
       "<div>\n",
       "<style scoped>\n",
       "    .dataframe tbody tr th:only-of-type {\n",
       "        vertical-align: middle;\n",
       "    }\n",
       "\n",
       "    .dataframe tbody tr th {\n",
       "        vertical-align: top;\n",
       "    }\n",
       "\n",
       "    .dataframe thead th {\n",
       "        text-align: right;\n",
       "    }\n",
       "</style>\n",
       "<table border=\"1\" class=\"dataframe\">\n",
       "  <thead>\n",
       "    <tr style=\"text-align: right;\">\n",
       "      <th></th>\n",
       "      <th>id</th>\n",
       "      <th>text</th>\n",
       "      <th>text_clean</th>\n",
       "      <th>text_encoded</th>\n",
       "      <th>prediction</th>\n",
       "    </tr>\n",
       "  </thead>\n",
       "  <tbody>\n",
       "    <tr>\n",
       "      <th>0</th>\n",
       "      <td>0</td>\n",
       "      <td>Just happened a terrible car crash</td>\n",
       "      <td>happen terrible car crash</td>\n",
       "      <td>[175, 1541, 45, 14]</td>\n",
       "      <td>0</td>\n",
       "    </tr>\n",
       "    <tr>\n",
       "      <th>1</th>\n",
       "      <td>2</td>\n",
       "      <td>Heard about #earthquake is different cities, s...</td>\n",
       "      <td>hear earthquake different city stay safe</td>\n",
       "      <td>[126, 173, 935, 121, 369, 1121]</td>\n",
       "      <td>1</td>\n",
       "    </tr>\n",
       "    <tr>\n",
       "      <th>2</th>\n",
       "      <td>3</td>\n",
       "      <td>there is a forest fire at spot pond, geese are...</td>\n",
       "      <td>forest fire spot pond geese flee street save</td>\n",
       "      <td>[119, 4, 524, 2805, 1, 2096, 381, 98]</td>\n",
       "      <td>1</td>\n",
       "    </tr>\n",
       "    <tr>\n",
       "      <th>3</th>\n",
       "      <td>9</td>\n",
       "      <td>Apocalypse lighting. #Spokane #wildfires</td>\n",
       "      <td>apocalypse lighting spokane wildfire</td>\n",
       "      <td>[388, 3111, 6224, 69]</td>\n",
       "      <td>1</td>\n",
       "    </tr>\n",
       "    <tr>\n",
       "      <th>4</th>\n",
       "      <td>11</td>\n",
       "      <td>Typhoon Soudelor kills 28 in China and Taiwan</td>\n",
       "      <td>typhoon soudelor kill 28 china taiwan</td>\n",
       "      <td>[395, 526, 12, 4189, 340, 939]</td>\n",
       "      <td>1</td>\n",
       "    </tr>\n",
       "    <tr>\n",
       "      <th>5</th>\n",
       "      <td>12</td>\n",
       "      <td>We're shaking...It's an earthquake</td>\n",
       "      <td>shakingit earthquake</td>\n",
       "      <td>[1, 173]</td>\n",
       "      <td>1</td>\n",
       "    </tr>\n",
       "    <tr>\n",
       "      <th>6</th>\n",
       "      <td>21</td>\n",
       "      <td>They'd probably still show more life than Arse...</td>\n",
       "      <td>d probably life arsenal yesterday eh eh</td>\n",
       "      <td>[85, 570, 43, 2131, 1188, 2898, 2898]</td>\n",
       "      <td>0</td>\n",
       "    </tr>\n",
       "    <tr>\n",
       "      <th>7</th>\n",
       "      <td>22</td>\n",
       "      <td>Hey! How are you?</td>\n",
       "      <td>hey</td>\n",
       "      <td>[556]</td>\n",
       "      <td>0</td>\n",
       "    </tr>\n",
       "    <tr>\n",
       "      <th>8</th>\n",
       "      <td>27</td>\n",
       "      <td>What a nice hat?</td>\n",
       "      <td>nice hat</td>\n",
       "      <td>[971, 598]</td>\n",
       "      <td>0</td>\n",
       "    </tr>\n",
       "    <tr>\n",
       "      <th>9</th>\n",
       "      <td>29</td>\n",
       "      <td>Fuck off!</td>\n",
       "      <td>fuck</td>\n",
       "      <td>[139]</td>\n",
       "      <td>0</td>\n",
       "    </tr>\n",
       "    <tr>\n",
       "      <th>10</th>\n",
       "      <td>30</td>\n",
       "      <td>No I don't like cold!</td>\n",
       "      <td>like cold</td>\n",
       "      <td>[2, 871]</td>\n",
       "      <td>0</td>\n",
       "    </tr>\n",
       "    <tr>\n",
       "      <th>11</th>\n",
       "      <td>35</td>\n",
       "      <td>NOOOOOOOOO! Don't do that!</td>\n",
       "      <td>nooooooooo</td>\n",
       "      <td>[1]</td>\n",
       "      <td>0</td>\n",
       "    </tr>\n",
       "    <tr>\n",
       "      <th>12</th>\n",
       "      <td>42</td>\n",
       "      <td>No don't tell me that!</td>\n",
       "      <td>tell</td>\n",
       "      <td>[190]</td>\n",
       "      <td>0</td>\n",
       "    </tr>\n",
       "    <tr>\n",
       "      <th>13</th>\n",
       "      <td>43</td>\n",
       "      <td>What if?!</td>\n",
       "      <td></td>\n",
       "      <td>[]</td>\n",
       "      <td>0</td>\n",
       "    </tr>\n",
       "    <tr>\n",
       "      <th>14</th>\n",
       "      <td>45</td>\n",
       "      <td>Awesome!</td>\n",
       "      <td>awesome</td>\n",
       "      <td>[790]</td>\n",
       "      <td>0</td>\n",
       "    </tr>\n",
       "    <tr>\n",
       "      <th>15</th>\n",
       "      <td>46</td>\n",
       "      <td>Birmingham Wholesale Market is ablaze BBC News...</td>\n",
       "      <td>birmingham wholesale market ablaze bbc news   ...</td>\n",
       "      <td>[3304, 2305, 270, 447, 1067, 9, 4, 84, 1, 2305...</td>\n",
       "      <td>1</td>\n",
       "    </tr>\n",
       "    <tr>\n",
       "      <th>16</th>\n",
       "      <td>47</td>\n",
       "      <td>@sunkxssedharry will you wear shorts for race ...</td>\n",
       "      <td>sunkxssedharry wear short race ablaze</td>\n",
       "      <td>[1, 1091, 1030, 2053, 447]</td>\n",
       "      <td>1</td>\n",
       "    </tr>\n",
       "    <tr>\n",
       "      <th>17</th>\n",
       "      <td>51</td>\n",
       "      <td>#PreviouslyOnDoyinTv: Toke MakinwaÛªs marriag...</td>\n",
       "      <td>previouslyondoyintv toke makinwaûªs marriage c...</td>\n",
       "      <td>[1, 8157, 1, 1, 587, 136, 835, 347, 447, 1]</td>\n",
       "      <td>1</td>\n",
       "    </tr>\n",
       "    <tr>\n",
       "      <th>18</th>\n",
       "      <td>58</td>\n",
       "      <td>Check these out: http://t.co/rOI2NSmEJJ http:/...</td>\n",
       "      <td>check httptcoroi2nsmejj httptco3tj8zjin21 http...</td>\n",
       "      <td>[214, 3665, 3666, 3667, 3668, 3669]</td>\n",
       "      <td>0</td>\n",
       "    </tr>\n",
       "    <tr>\n",
       "      <th>19</th>\n",
       "      <td>60</td>\n",
       "      <td>PSA: IÛªm splitting my personalities.\\n\\n?? t...</td>\n",
       "      <td>psa iûªm split personality techie follow ablaz...</td>\n",
       "      <td>[4521, 1889, 2830, 1, 1, 286, 1, 1, 286, 447]</td>\n",
       "      <td>0</td>\n",
       "    </tr>\n",
       "    <tr>\n",
       "      <th>20</th>\n",
       "      <td>69</td>\n",
       "      <td>beware world ablaze sierra leone &amp;amp; guap.</td>\n",
       "      <td>beware world ablaze sierra leone amp guap</td>\n",
       "      <td>[3523, 42, 447, 1, 1, 5, 1]</td>\n",
       "      <td>0</td>\n",
       "    </tr>\n",
       "    <tr>\n",
       "      <th>21</th>\n",
       "      <td>70</td>\n",
       "      <td>Burning Man Ablaze! by Turban Diva http://t.co...</td>\n",
       "      <td>burn man ablaze turban diva httptcohodwosamws ...</td>\n",
       "      <td>[10, 25, 447, 1, 1, 1, 1]</td>\n",
       "      <td>0</td>\n",
       "    </tr>\n",
       "    <tr>\n",
       "      <th>22</th>\n",
       "      <td>72</td>\n",
       "      <td>Not a diss song. People will take 1 thing and ...</td>\n",
       "      <td>diss song people 1 thing run smh eye opener 2 ...</td>\n",
       "      <td>[2471, 348, 8, 127, 100, 89, 1439, 275, 1, 13,...</td>\n",
       "      <td>0</td>\n",
       "    </tr>\n",
       "    <tr>\n",
       "      <th>23</th>\n",
       "      <td>75</td>\n",
       "      <td>Rape victim dies as she sets herself ablaze: A...</td>\n",
       "      <td>rape victim die set ablaze 16yearold girl die ...</td>\n",
       "      <td>[1760, 471, 91, 136, 447, 1, 195, 91, 10, 76, ...</td>\n",
       "      <td>0</td>\n",
       "    </tr>\n",
       "    <tr>\n",
       "      <th>24</th>\n",
       "      <td>84</td>\n",
       "      <td>SETTING MYSELF ABLAZE http://t.co/6vMe7P5XhC</td>\n",
       "      <td>set ablaze httptco6vme7p5xhc</td>\n",
       "      <td>[136, 447, 1]</td>\n",
       "      <td>0</td>\n",
       "    </tr>\n",
       "  </tbody>\n",
       "</table>\n",
       "</div>"
      ],
      "text/plain": [
       "    id                                               text  \\\n",
       "0    0                 Just happened a terrible car crash   \n",
       "1    2  Heard about #earthquake is different cities, s...   \n",
       "2    3  there is a forest fire at spot pond, geese are...   \n",
       "3    9           Apocalypse lighting. #Spokane #wildfires   \n",
       "4   11      Typhoon Soudelor kills 28 in China and Taiwan   \n",
       "5   12                 We're shaking...It's an earthquake   \n",
       "6   21  They'd probably still show more life than Arse...   \n",
       "7   22                                  Hey! How are you?   \n",
       "8   27                                   What a nice hat?   \n",
       "9   29                                          Fuck off!   \n",
       "10  30                              No I don't like cold!   \n",
       "11  35                         NOOOOOOOOO! Don't do that!   \n",
       "12  42                             No don't tell me that!   \n",
       "13  43                                          What if?!   \n",
       "14  45                                           Awesome!   \n",
       "15  46  Birmingham Wholesale Market is ablaze BBC News...   \n",
       "16  47  @sunkxssedharry will you wear shorts for race ...   \n",
       "17  51  #PreviouslyOnDoyinTv: Toke MakinwaÛªs marriag...   \n",
       "18  58  Check these out: http://t.co/rOI2NSmEJJ http:/...   \n",
       "19  60  PSA: IÛªm splitting my personalities.\\n\\n?? t...   \n",
       "20  69       beware world ablaze sierra leone &amp; guap.   \n",
       "21  70  Burning Man Ablaze! by Turban Diva http://t.co...   \n",
       "22  72  Not a diss song. People will take 1 thing and ...   \n",
       "23  75  Rape victim dies as she sets herself ablaze: A...   \n",
       "24  84       SETTING MYSELF ABLAZE http://t.co/6vMe7P5XhC   \n",
       "\n",
       "                                           text_clean  \\\n",
       "0                           happen terrible car crash   \n",
       "1            hear earthquake different city stay safe   \n",
       "2        forest fire spot pond geese flee street save   \n",
       "3                apocalypse lighting spokane wildfire   \n",
       "4               typhoon soudelor kill 28 china taiwan   \n",
       "5                                shakingit earthquake   \n",
       "6             d probably life arsenal yesterday eh eh   \n",
       "7                                                 hey   \n",
       "8                                            nice hat   \n",
       "9                                                fuck   \n",
       "10                                          like cold   \n",
       "11                                         nooooooooo   \n",
       "12                                               tell   \n",
       "13                                                      \n",
       "14                                            awesome   \n",
       "15  birmingham wholesale market ablaze bbc news   ...   \n",
       "16              sunkxssedharry wear short race ablaze   \n",
       "17  previouslyondoyintv toke makinwaûªs marriage c...   \n",
       "18  check httptcoroi2nsmejj httptco3tj8zjin21 http...   \n",
       "19  psa iûªm split personality techie follow ablaz...   \n",
       "20          beware world ablaze sierra leone amp guap   \n",
       "21  burn man ablaze turban diva httptcohodwosamws ...   \n",
       "22  diss song people 1 thing run smh eye opener 2 ...   \n",
       "23  rape victim die set ablaze 16yearold girl die ...   \n",
       "24                       set ablaze httptco6vme7p5xhc   \n",
       "\n",
       "                                         text_encoded  prediction  \n",
       "0                                 [175, 1541, 45, 14]           0  \n",
       "1                     [126, 173, 935, 121, 369, 1121]           1  \n",
       "2               [119, 4, 524, 2805, 1, 2096, 381, 98]           1  \n",
       "3                               [388, 3111, 6224, 69]           1  \n",
       "4                      [395, 526, 12, 4189, 340, 939]           1  \n",
       "5                                            [1, 173]           1  \n",
       "6               [85, 570, 43, 2131, 1188, 2898, 2898]           0  \n",
       "7                                               [556]           0  \n",
       "8                                          [971, 598]           0  \n",
       "9                                               [139]           0  \n",
       "10                                           [2, 871]           0  \n",
       "11                                                [1]           0  \n",
       "12                                              [190]           0  \n",
       "13                                                 []           0  \n",
       "14                                              [790]           0  \n",
       "15  [3304, 2305, 270, 447, 1067, 9, 4, 84, 1, 2305...           1  \n",
       "16                         [1, 1091, 1030, 2053, 447]           1  \n",
       "17        [1, 8157, 1, 1, 587, 136, 835, 347, 447, 1]           1  \n",
       "18                [214, 3665, 3666, 3667, 3668, 3669]           0  \n",
       "19      [4521, 1889, 2830, 1, 1, 286, 1, 1, 286, 447]           0  \n",
       "20                        [3523, 42, 447, 1, 1, 5, 1]           0  \n",
       "21                          [10, 25, 447, 1, 1, 1, 1]           0  \n",
       "22  [2471, 348, 8, 127, 100, 89, 1439, 275, 1, 13,...           0  \n",
       "23  [1760, 471, 91, 136, 447, 1, 195, 91, 10, 76, ...           0  \n",
       "24                                      [136, 447, 1]           0  "
      ]
     },
     "execution_count": 228,
     "metadata": {},
     "output_type": "execute_result"
    }
   ],
   "source": [
    "test.head(25)"
   ]
  },
  {
   "cell_type": "code",
   "execution_count": null,
   "id": "cc9ba883-58e0-4391-b8e9-40521ab7da03",
   "metadata": {},
   "outputs": [],
   "source": []
  }
 ],
 "metadata": {
  "kernelspec": {
   "display_name": "Python 3 (ipykernel)",
   "language": "python",
   "name": "python3"
  },
  "language_info": {
   "codemirror_mode": {
    "name": "ipython",
    "version": 3
   },
   "file_extension": ".py",
   "mimetype": "text/x-python",
   "name": "python",
   "nbconvert_exporter": "python",
   "pygments_lexer": "ipython3",
   "version": "3.9.13"
  }
 },
 "nbformat": 4,
 "nbformat_minor": 5
}
